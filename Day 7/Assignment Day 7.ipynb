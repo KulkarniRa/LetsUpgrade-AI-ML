{
 "cells": [
  {
   "cell_type": "code",
   "execution_count": 1,
   "metadata": {},
   "outputs": [],
   "source": [
    "import pandas as pd "
   ]
  },
  {
   "cell_type": "code",
   "execution_count": 2,
   "metadata": {},
   "outputs": [],
   "source": [
    "df = pd.read_csv(\"/Users/ravindrakulkarni/Library/Mobile Documents/com~apple~CloudDocs/LetsUpgrade Assignment/general_data.csv\")"
   ]
  },
  {
   "cell_type": "code",
   "execution_count": 3,
   "metadata": {},
   "outputs": [
    {
     "name": "stdout",
     "output_type": "stream",
     "text": [
      "                                                                                                                                                                                                                                                                                                                                                                   general_data\n",
      "Age Attrition BusinessTravel    Department             DistanceFromHome Education EducationField EmployeeCount EmployeeID Gender JobLevel JobRole                   MaritalStatus MonthlyIncome NumCompaniesWorked Over18 PercentSalaryHike StandardHours StockOptionLevel TotalWorkingYears TrainingTimesLastYear YearsAtCompany YearsSinceLastPromotion  YearsWithCurrManager\n",
      "51  No        Travel_Rarely     Sales                  6                2         Life Sciences  1             1          Female 1        Healthcare Representative Married       131160        1                  Y      11                8             0                1                 6                     1              0                                           0\n",
      "31  Yes       Travel_Frequently Research & Development 10               1         Life Sciences  1             2          Female 1        Research Scientist        Single        41890         0                  Y      23                8             1                6                 3                     5              1                                           4\n",
      "32  No        Travel_Frequently Research & Development 17               4         Other          1             3          Male   4        Sales Executive           Married       193280        1                  Y      15                8             3                5                 2                     5              0                                           3\n",
      "38  No        Non-Travel        Research & Development 2                5         Life Sciences  1             4          Male   3        Human Resources           Married       83210         3                  Y      11                8             3                13                5                     8              7                                           5\n"
     ]
    }
   ],
   "source": [
    "print(df.head())"
   ]
  },
  {
   "cell_type": "markdown",
   "metadata": {},
   "source": [
    "Business Problem\n",
    "\n",
    "● A sizable department has to be maintained, for the purposes of recruiting new talent\n",
    "● More often than not, the new employees have to be trained for the job and/or given time to\n",
    "  acclimatize themselves to the company\n",
    "● Hence, the management has contracted an HR analytics firm to understand what factors they\n",
    "  should focus on, in order to curb attrition.\n",
    "● In other words, they want to know what changes they should make to their workplace, in order to\n",
    "  get most of their employees to stay.\n",
    "● Also, they want to know which of these variables is most important and needs to be addressed\n",
    "  right away."
   ]
  }
 ],
 "metadata": {
  "kernelspec": {
   "display_name": "Python 3",
   "language": "python",
   "name": "python3"
  },
  "language_info": {
   "codemirror_mode": {
    "name": "ipython",
    "version": 3
   },
   "file_extension": ".py",
   "mimetype": "text/x-python",
   "name": "python",
   "nbconvert_exporter": "python",
   "pygments_lexer": "ipython3",
   "version": "3.7.4"
  }
 },
 "nbformat": 4,
 "nbformat_minor": 2
}
