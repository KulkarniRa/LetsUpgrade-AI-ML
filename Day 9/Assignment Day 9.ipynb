{
 "cells": [
  {
   "cell_type": "markdown",
   "metadata": {},
   "source": [
    "Business Problem\n",
    "\n",
    "● A sizable department has to be maintained, for the purposes of recruiting new talent\n",
    "● More often than not, the new employees have to be trained for the job and/or given time to\n",
    "  acclimatize themselves to the company\n",
    "● Hence, the management has contracted an HR analytics firm to understand what factors they\n",
    "  should focus on, in order to curb attrition.\n",
    "● In other words, they want to know what changes they should make to their workplace, in order to\n",
    "  get most of their employees to stay.\n",
    "● Also, they want to know which of these variables is most important and needs to be addressed\n",
    "  right away."
   ]
  },
  {
   "cell_type": "code",
   "execution_count": 1,
   "metadata": {},
   "outputs": [],
   "source": [
    "import pandas as pd \n",
    "import numpy as np\n",
    "import matplotlib.pyplot as plt\n"
   ]
  },
  {
   "cell_type": "code",
   "execution_count": 2,
   "metadata": {},
   "outputs": [],
   "source": [
    "df = pd.read_csv(\"/Users/ravindrakulkarni/Library/Mobile Documents/com~apple~CloudDocs/LetsUpgrade Assignment/general_data.csv\")"
   ]
  },
  {
   "cell_type": "code",
   "execution_count": 3,
   "metadata": {
    "scrolled": true
   },
   "outputs": [
    {
     "data": {
      "text/html": [
       "<div>\n",
       "<style scoped>\n",
       "    .dataframe tbody tr th:only-of-type {\n",
       "        vertical-align: middle;\n",
       "    }\n",
       "\n",
       "    .dataframe tbody tr th {\n",
       "        vertical-align: top;\n",
       "    }\n",
       "\n",
       "    .dataframe thead th {\n",
       "        text-align: right;\n",
       "    }\n",
       "</style>\n",
       "<table border=\"1\" class=\"dataframe\">\n",
       "  <thead>\n",
       "    <tr style=\"text-align: right;\">\n",
       "      <th></th>\n",
       "      <th>Age</th>\n",
       "      <th>Attrition</th>\n",
       "      <th>BusinessTravel</th>\n",
       "      <th>Department</th>\n",
       "      <th>DistanceFromHome</th>\n",
       "      <th>Education</th>\n",
       "      <th>EducationField</th>\n",
       "      <th>EmployeeCount</th>\n",
       "      <th>EmployeeID</th>\n",
       "      <th>Gender</th>\n",
       "      <th>...</th>\n",
       "      <th>NumCompaniesWorked</th>\n",
       "      <th>Over18</th>\n",
       "      <th>PercentSalaryHike</th>\n",
       "      <th>StandardHours</th>\n",
       "      <th>StockOptionLevel</th>\n",
       "      <th>TotalWorkingYears</th>\n",
       "      <th>TrainingTimesLastYear</th>\n",
       "      <th>YearsAtCompany</th>\n",
       "      <th>YearsSinceLastPromotion</th>\n",
       "      <th>YearsWithCurrManager</th>\n",
       "    </tr>\n",
       "  </thead>\n",
       "  <tbody>\n",
       "    <tr>\n",
       "      <td>0</td>\n",
       "      <td>51</td>\n",
       "      <td>No</td>\n",
       "      <td>Travel_Rarely</td>\n",
       "      <td>Sales</td>\n",
       "      <td>6</td>\n",
       "      <td>2</td>\n",
       "      <td>Life Sciences</td>\n",
       "      <td>1</td>\n",
       "      <td>1</td>\n",
       "      <td>Female</td>\n",
       "      <td>...</td>\n",
       "      <td>1.0</td>\n",
       "      <td>Y</td>\n",
       "      <td>11</td>\n",
       "      <td>8</td>\n",
       "      <td>0</td>\n",
       "      <td>1.0</td>\n",
       "      <td>6</td>\n",
       "      <td>1</td>\n",
       "      <td>0</td>\n",
       "      <td>0</td>\n",
       "    </tr>\n",
       "    <tr>\n",
       "      <td>1</td>\n",
       "      <td>31</td>\n",
       "      <td>Yes</td>\n",
       "      <td>Travel_Frequently</td>\n",
       "      <td>Research &amp; Development</td>\n",
       "      <td>10</td>\n",
       "      <td>1</td>\n",
       "      <td>Life Sciences</td>\n",
       "      <td>1</td>\n",
       "      <td>2</td>\n",
       "      <td>Female</td>\n",
       "      <td>...</td>\n",
       "      <td>0.0</td>\n",
       "      <td>Y</td>\n",
       "      <td>23</td>\n",
       "      <td>8</td>\n",
       "      <td>1</td>\n",
       "      <td>6.0</td>\n",
       "      <td>3</td>\n",
       "      <td>5</td>\n",
       "      <td>1</td>\n",
       "      <td>4</td>\n",
       "    </tr>\n",
       "    <tr>\n",
       "      <td>2</td>\n",
       "      <td>32</td>\n",
       "      <td>No</td>\n",
       "      <td>Travel_Frequently</td>\n",
       "      <td>Research &amp; Development</td>\n",
       "      <td>17</td>\n",
       "      <td>4</td>\n",
       "      <td>Other</td>\n",
       "      <td>1</td>\n",
       "      <td>3</td>\n",
       "      <td>Male</td>\n",
       "      <td>...</td>\n",
       "      <td>1.0</td>\n",
       "      <td>Y</td>\n",
       "      <td>15</td>\n",
       "      <td>8</td>\n",
       "      <td>3</td>\n",
       "      <td>5.0</td>\n",
       "      <td>2</td>\n",
       "      <td>5</td>\n",
       "      <td>0</td>\n",
       "      <td>3</td>\n",
       "    </tr>\n",
       "    <tr>\n",
       "      <td>3</td>\n",
       "      <td>38</td>\n",
       "      <td>No</td>\n",
       "      <td>Non-Travel</td>\n",
       "      <td>Research &amp; Development</td>\n",
       "      <td>2</td>\n",
       "      <td>5</td>\n",
       "      <td>Life Sciences</td>\n",
       "      <td>1</td>\n",
       "      <td>4</td>\n",
       "      <td>Male</td>\n",
       "      <td>...</td>\n",
       "      <td>3.0</td>\n",
       "      <td>Y</td>\n",
       "      <td>11</td>\n",
       "      <td>8</td>\n",
       "      <td>3</td>\n",
       "      <td>13.0</td>\n",
       "      <td>5</td>\n",
       "      <td>8</td>\n",
       "      <td>7</td>\n",
       "      <td>5</td>\n",
       "    </tr>\n",
       "    <tr>\n",
       "      <td>4</td>\n",
       "      <td>32</td>\n",
       "      <td>No</td>\n",
       "      <td>Travel_Rarely</td>\n",
       "      <td>Research &amp; Development</td>\n",
       "      <td>10</td>\n",
       "      <td>1</td>\n",
       "      <td>Medical</td>\n",
       "      <td>1</td>\n",
       "      <td>5</td>\n",
       "      <td>Male</td>\n",
       "      <td>...</td>\n",
       "      <td>4.0</td>\n",
       "      <td>Y</td>\n",
       "      <td>12</td>\n",
       "      <td>8</td>\n",
       "      <td>2</td>\n",
       "      <td>9.0</td>\n",
       "      <td>2</td>\n",
       "      <td>6</td>\n",
       "      <td>0</td>\n",
       "      <td>4</td>\n",
       "    </tr>\n",
       "  </tbody>\n",
       "</table>\n",
       "<p>5 rows × 24 columns</p>\n",
       "</div>"
      ],
      "text/plain": [
       "   Age Attrition     BusinessTravel              Department  DistanceFromHome  \\\n",
       "0   51        No      Travel_Rarely                   Sales                 6   \n",
       "1   31       Yes  Travel_Frequently  Research & Development                10   \n",
       "2   32        No  Travel_Frequently  Research & Development                17   \n",
       "3   38        No         Non-Travel  Research & Development                 2   \n",
       "4   32        No      Travel_Rarely  Research & Development                10   \n",
       "\n",
       "   Education EducationField  EmployeeCount  EmployeeID  Gender  ...  \\\n",
       "0          2  Life Sciences              1           1  Female  ...   \n",
       "1          1  Life Sciences              1           2  Female  ...   \n",
       "2          4          Other              1           3    Male  ...   \n",
       "3          5  Life Sciences              1           4    Male  ...   \n",
       "4          1        Medical              1           5    Male  ...   \n",
       "\n",
       "   NumCompaniesWorked Over18 PercentSalaryHike  StandardHours  \\\n",
       "0                 1.0      Y                11              8   \n",
       "1                 0.0      Y                23              8   \n",
       "2                 1.0      Y                15              8   \n",
       "3                 3.0      Y                11              8   \n",
       "4                 4.0      Y                12              8   \n",
       "\n",
       "   StockOptionLevel TotalWorkingYears  TrainingTimesLastYear  YearsAtCompany  \\\n",
       "0                 0               1.0                      6               1   \n",
       "1                 1               6.0                      3               5   \n",
       "2                 3               5.0                      2               5   \n",
       "3                 3              13.0                      5               8   \n",
       "4                 2               9.0                      2               6   \n",
       "\n",
       "   YearsSinceLastPromotion  YearsWithCurrManager  \n",
       "0                        0                     0  \n",
       "1                        1                     4  \n",
       "2                        0                     3  \n",
       "3                        7                     5  \n",
       "4                        0                     4  \n",
       "\n",
       "[5 rows x 24 columns]"
      ]
     },
     "execution_count": 3,
     "metadata": {},
     "output_type": "execute_result"
    }
   ],
   "source": [
    "df.head()"
   ]
  },
  {
   "cell_type": "markdown",
   "metadata": {},
   "source": [
    "We will now check the column names, no of records and count of missing values. From the information below, we don't seem to have any missing values"
   ]
  },
  {
   "cell_type": "code",
   "execution_count": 4,
   "metadata": {},
   "outputs": [
    {
     "name": "stdout",
     "output_type": "stream",
     "text": [
      "<class 'pandas.core.frame.DataFrame'>\n",
      "RangeIndex: 4410 entries, 0 to 4409\n",
      "Data columns (total 24 columns):\n",
      "Age                        4410 non-null int64\n",
      "Attrition                  4410 non-null object\n",
      "BusinessTravel             4410 non-null object\n",
      "Department                 4410 non-null object\n",
      "DistanceFromHome           4410 non-null int64\n",
      "Education                  4410 non-null int64\n",
      "EducationField             4410 non-null object\n",
      "EmployeeCount              4410 non-null int64\n",
      "EmployeeID                 4410 non-null int64\n",
      "Gender                     4410 non-null object\n",
      "JobLevel                   4410 non-null int64\n",
      "JobRole                    4410 non-null object\n",
      "MaritalStatus              4410 non-null object\n",
      "MonthlyIncome              4410 non-null int64\n",
      "NumCompaniesWorked         4391 non-null float64\n",
      "Over18                     4410 non-null object\n",
      "PercentSalaryHike          4410 non-null int64\n",
      "StandardHours              4410 non-null int64\n",
      "StockOptionLevel           4410 non-null int64\n",
      "TotalWorkingYears          4401 non-null float64\n",
      "TrainingTimesLastYear      4410 non-null int64\n",
      "YearsAtCompany             4410 non-null int64\n",
      "YearsSinceLastPromotion    4410 non-null int64\n",
      "YearsWithCurrManager       4410 non-null int64\n",
      "dtypes: float64(2), int64(14), object(8)\n",
      "memory usage: 827.0+ KB\n"
     ]
    }
   ],
   "source": [
    "df.info()"
   ]
  },
  {
   "cell_type": "code",
   "execution_count": 5,
   "metadata": {},
   "outputs": [
    {
     "data": {
      "text/plain": [
       "Index(['Age', 'Attrition', 'BusinessTravel', 'Department', 'DistanceFromHome',\n",
       "       'Education', 'EducationField', 'EmployeeCount', 'EmployeeID', 'Gender',\n",
       "       'JobLevel', 'JobRole', 'MaritalStatus', 'MonthlyIncome',\n",
       "       'NumCompaniesWorked', 'Over18', 'PercentSalaryHike', 'StandardHours',\n",
       "       'StockOptionLevel', 'TotalWorkingYears', 'TrainingTimesLastYear',\n",
       "       'YearsAtCompany', 'YearsSinceLastPromotion', 'YearsWithCurrManager'],\n",
       "      dtype='object')"
      ]
     },
     "execution_count": 5,
     "metadata": {},
     "output_type": "execute_result"
    }
   ],
   "source": [
    "df.columns"
   ]
  },
  {
   "cell_type": "markdown",
   "metadata": {},
   "source": [
    "Dropping unwanted columns from the data set"
   ]
  },
  {
   "cell_type": "code",
   "execution_count": 6,
   "metadata": {},
   "outputs": [],
   "source": [
    "df1 = df.drop(['EmployeeCount','EmployeeID','Over18','StandardHours','JobLevel','StockOptionLevel'], axis=1)"
   ]
  },
  {
   "cell_type": "code",
   "execution_count": 7,
   "metadata": {},
   "outputs": [
    {
     "name": "stdout",
     "output_type": "stream",
     "text": [
      "        Age  Attrition  BusinessTravel  Department  DistanceFromHome  \\\n",
      "0     False      False           False       False             False   \n",
      "1     False      False           False       False             False   \n",
      "2     False      False           False       False             False   \n",
      "3     False      False           False       False             False   \n",
      "4     False      False           False       False             False   \n",
      "...     ...        ...             ...         ...               ...   \n",
      "4405  False      False           False       False             False   \n",
      "4406  False      False           False       False             False   \n",
      "4407  False      False           False       False             False   \n",
      "4408  False      False           False       False             False   \n",
      "4409  False      False           False       False             False   \n",
      "\n",
      "      Education  EducationField  Gender  JobRole  MaritalStatus  \\\n",
      "0         False           False   False    False          False   \n",
      "1         False           False   False    False          False   \n",
      "2         False           False   False    False          False   \n",
      "3         False           False   False    False          False   \n",
      "4         False           False   False    False          False   \n",
      "...         ...             ...     ...      ...            ...   \n",
      "4405      False           False   False    False          False   \n",
      "4406      False           False   False    False          False   \n",
      "4407      False           False   False    False          False   \n",
      "4408      False           False   False    False          False   \n",
      "4409      False           False   False    False          False   \n",
      "\n",
      "      MonthlyIncome  NumCompaniesWorked  PercentSalaryHike  TotalWorkingYears  \\\n",
      "0             False               False              False              False   \n",
      "1             False               False              False              False   \n",
      "2             False               False              False              False   \n",
      "3             False               False              False              False   \n",
      "4             False               False              False              False   \n",
      "...             ...                 ...                ...                ...   \n",
      "4405          False               False              False              False   \n",
      "4406          False               False              False              False   \n",
      "4407          False               False              False              False   \n",
      "4408          False               False              False              False   \n",
      "4409          False               False              False               True   \n",
      "\n",
      "      TrainingTimesLastYear  YearsAtCompany  YearsSinceLastPromotion  \\\n",
      "0                     False           False                    False   \n",
      "1                     False           False                    False   \n",
      "2                     False           False                    False   \n",
      "3                     False           False                    False   \n",
      "4                     False           False                    False   \n",
      "...                     ...             ...                      ...   \n",
      "4405                  False           False                    False   \n",
      "4406                  False           False                    False   \n",
      "4407                  False           False                    False   \n",
      "4408                  False           False                    False   \n",
      "4409                  False           False                    False   \n",
      "\n",
      "      YearsWithCurrManager  \n",
      "0                    False  \n",
      "1                    False  \n",
      "2                    False  \n",
      "3                    False  \n",
      "4                    False  \n",
      "...                    ...  \n",
      "4405                 False  \n",
      "4406                 False  \n",
      "4407                 False  \n",
      "4408                 False  \n",
      "4409                 False  \n",
      "\n",
      "[4410 rows x 18 columns]\n"
     ]
    }
   ],
   "source": [
    "# Checking for missing values in the data set\n",
    "\n",
    "print(df1.isnull())"
   ]
  },
  {
   "cell_type": "markdown",
   "metadata": {},
   "source": [
    "From the above result, we can conclude that the dataset doesn't have any missing values"
   ]
  },
  {
   "cell_type": "code",
   "execution_count": 8,
   "metadata": {},
   "outputs": [
    {
     "data": {
      "text/plain": [
       "Index(['Age', 'Attrition', 'BusinessTravel', 'Department', 'DistanceFromHome',\n",
       "       'Education', 'EducationField', 'Gender', 'JobRole', 'MaritalStatus',\n",
       "       'MonthlyIncome', 'NumCompaniesWorked', 'PercentSalaryHike',\n",
       "       'TotalWorkingYears', 'TrainingTimesLastYear', 'YearsAtCompany',\n",
       "       'YearsSinceLastPromotion', 'YearsWithCurrManager'],\n",
       "      dtype='object')"
      ]
     },
     "execution_count": 8,
     "metadata": {},
     "output_type": "execute_result"
    }
   ],
   "source": [
    "df1.columns\n"
   ]
  },
  {
   "cell_type": "code",
   "execution_count": 9,
   "metadata": {},
   "outputs": [
    {
     "name": "stdout",
     "output_type": "stream",
     "text": [
      "0       False\n",
      "1       False\n",
      "2       False\n",
      "3       False\n",
      "4       False\n",
      "        ...  \n",
      "4405     True\n",
      "4406     True\n",
      "4407     True\n",
      "4408     True\n",
      "4409    False\n",
      "Length: 4410, dtype: bool\n"
     ]
    }
   ],
   "source": [
    "# Checking for duplicate records\n",
    "print(df1.duplicated())"
   ]
  },
  {
   "cell_type": "code",
   "execution_count": 10,
   "metadata": {},
   "outputs": [],
   "source": [
    "# From the above results, row nos 4405, 4406, 4407 and 4408 are duplicate records. "
   ]
  },
  {
   "cell_type": "code",
   "execution_count": 11,
   "metadata": {},
   "outputs": [
    {
     "data": {
      "text/plain": [
       "1470"
      ]
     },
     "execution_count": 11,
     "metadata": {},
     "output_type": "execute_result"
    }
   ],
   "source": [
    "df1_dups = df1.pivot_table(index=['Age', 'Attrition', 'BusinessTravel', 'Department', 'DistanceFromHome',\n",
    "       'Education', 'EducationField', 'Gender', 'JobRole', 'MaritalStatus',\n",
    "       'MonthlyIncome', 'NumCompaniesWorked', 'PercentSalaryHike',\n",
    "       'TotalWorkingYears', 'TrainingTimesLastYear', 'YearsAtCompany',\n",
    "       'YearsSinceLastPromotion', 'YearsWithCurrManager'], aggfunc='size')\n",
    "df1_dups.count()"
   ]
  },
  {
   "cell_type": "code",
   "execution_count": 12,
   "metadata": {},
   "outputs": [
    {
     "data": {
      "text/plain": [
       "Age                          43\n",
       "Attrition                     2\n",
       "BusinessTravel                3\n",
       "Department                    3\n",
       "DistanceFromHome             29\n",
       "Education                     5\n",
       "EducationField                6\n",
       "Gender                        2\n",
       "JobRole                       9\n",
       "MaritalStatus                 3\n",
       "MonthlyIncome              1349\n",
       "NumCompaniesWorked           10\n",
       "PercentSalaryHike            15\n",
       "TotalWorkingYears            40\n",
       "TrainingTimesLastYear         7\n",
       "YearsAtCompany               37\n",
       "YearsSinceLastPromotion      16\n",
       "YearsWithCurrManager         18\n",
       "dtype: int64"
      ]
     },
     "execution_count": 12,
     "metadata": {},
     "output_type": "execute_result"
    }
   ],
   "source": [
    "df1.nunique()"
   ]
  },
  {
   "cell_type": "code",
   "execution_count": 13,
   "metadata": {},
   "outputs": [],
   "source": [
    "# Removing duplicate records\n",
    "df2 = df1.drop_duplicates()"
   ]
  },
  {
   "cell_type": "code",
   "execution_count": 14,
   "metadata": {},
   "outputs": [
    {
     "name": "stdout",
     "output_type": "stream",
     "text": [
      "<class 'pandas.core.frame.DataFrame'>\n",
      "Int64Index: 1498 entries, 0 to 4409\n",
      "Data columns (total 18 columns):\n",
      "Age                        1498 non-null int64\n",
      "Attrition                  1498 non-null object\n",
      "BusinessTravel             1498 non-null object\n",
      "Department                 1498 non-null object\n",
      "DistanceFromHome           1498 non-null int64\n",
      "Education                  1498 non-null int64\n",
      "EducationField             1498 non-null object\n",
      "Gender                     1498 non-null object\n",
      "JobRole                    1498 non-null object\n",
      "MaritalStatus              1498 non-null object\n",
      "MonthlyIncome              1498 non-null int64\n",
      "NumCompaniesWorked         1479 non-null float64\n",
      "PercentSalaryHike          1498 non-null int64\n",
      "TotalWorkingYears          1489 non-null float64\n",
      "TrainingTimesLastYear      1498 non-null int64\n",
      "YearsAtCompany             1498 non-null int64\n",
      "YearsSinceLastPromotion    1498 non-null int64\n",
      "YearsWithCurrManager       1498 non-null int64\n",
      "dtypes: float64(2), int64(9), object(7)\n",
      "memory usage: 222.4+ KB\n"
     ]
    }
   ],
   "source": [
    "df2.info()"
   ]
  },
  {
   "cell_type": "code",
   "execution_count": 15,
   "metadata": {},
   "outputs": [
    {
     "data": {
      "text/html": [
       "<div>\n",
       "<style scoped>\n",
       "    .dataframe tbody tr th:only-of-type {\n",
       "        vertical-align: middle;\n",
       "    }\n",
       "\n",
       "    .dataframe tbody tr th {\n",
       "        vertical-align: top;\n",
       "    }\n",
       "\n",
       "    .dataframe thead th {\n",
       "        text-align: right;\n",
       "    }\n",
       "</style>\n",
       "<table border=\"1\" class=\"dataframe\">\n",
       "  <thead>\n",
       "    <tr style=\"text-align: right;\">\n",
       "      <th></th>\n",
       "      <th>Age</th>\n",
       "      <th>DistanceFromHome</th>\n",
       "      <th>Education</th>\n",
       "      <th>MonthlyIncome</th>\n",
       "      <th>NumCompaniesWorked</th>\n",
       "      <th>PercentSalaryHike</th>\n",
       "      <th>TotalWorkingYears</th>\n",
       "      <th>TrainingTimesLastYear</th>\n",
       "      <th>YearsAtCompany</th>\n",
       "      <th>YearsSinceLastPromotion</th>\n",
       "      <th>YearsWithCurrManager</th>\n",
       "    </tr>\n",
       "  </thead>\n",
       "  <tbody>\n",
       "    <tr>\n",
       "      <td>count</td>\n",
       "      <td>1498.000000</td>\n",
       "      <td>1498.000000</td>\n",
       "      <td>1498.000000</td>\n",
       "      <td>1498.000000</td>\n",
       "      <td>1479.000000</td>\n",
       "      <td>1498.000000</td>\n",
       "      <td>1489.000000</td>\n",
       "      <td>1498.000000</td>\n",
       "      <td>1498.000000</td>\n",
       "      <td>1498.000000</td>\n",
       "      <td>1498.000000</td>\n",
       "    </tr>\n",
       "    <tr>\n",
       "      <td>mean</td>\n",
       "      <td>36.895861</td>\n",
       "      <td>9.173565</td>\n",
       "      <td>2.914553</td>\n",
       "      <td>64934.566088</td>\n",
       "      <td>2.697769</td>\n",
       "      <td>15.206275</td>\n",
       "      <td>11.249161</td>\n",
       "      <td>2.802403</td>\n",
       "      <td>7.001335</td>\n",
       "      <td>2.176235</td>\n",
       "      <td>4.114152</td>\n",
       "    </tr>\n",
       "    <tr>\n",
       "      <td>std</td>\n",
       "      <td>9.123650</td>\n",
       "      <td>8.105717</td>\n",
       "      <td>1.021827</td>\n",
       "      <td>46863.756845</td>\n",
       "      <td>2.501137</td>\n",
       "      <td>3.648488</td>\n",
       "      <td>7.770419</td>\n",
       "      <td>1.288019</td>\n",
       "      <td>6.114145</td>\n",
       "      <td>3.212729</td>\n",
       "      <td>3.561229</td>\n",
       "    </tr>\n",
       "    <tr>\n",
       "      <td>min</td>\n",
       "      <td>18.000000</td>\n",
       "      <td>1.000000</td>\n",
       "      <td>1.000000</td>\n",
       "      <td>10090.000000</td>\n",
       "      <td>0.000000</td>\n",
       "      <td>11.000000</td>\n",
       "      <td>0.000000</td>\n",
       "      <td>0.000000</td>\n",
       "      <td>0.000000</td>\n",
       "      <td>0.000000</td>\n",
       "      <td>0.000000</td>\n",
       "    </tr>\n",
       "    <tr>\n",
       "      <td>25%</td>\n",
       "      <td>30.000000</td>\n",
       "      <td>2.000000</td>\n",
       "      <td>2.000000</td>\n",
       "      <td>29110.000000</td>\n",
       "      <td>1.000000</td>\n",
       "      <td>12.000000</td>\n",
       "      <td>6.000000</td>\n",
       "      <td>2.000000</td>\n",
       "      <td>3.000000</td>\n",
       "      <td>0.000000</td>\n",
       "      <td>2.000000</td>\n",
       "    </tr>\n",
       "    <tr>\n",
       "      <td>50%</td>\n",
       "      <td>36.000000</td>\n",
       "      <td>7.000000</td>\n",
       "      <td>3.000000</td>\n",
       "      <td>49190.000000</td>\n",
       "      <td>2.000000</td>\n",
       "      <td>14.000000</td>\n",
       "      <td>10.000000</td>\n",
       "      <td>3.000000</td>\n",
       "      <td>5.000000</td>\n",
       "      <td>1.000000</td>\n",
       "      <td>3.000000</td>\n",
       "    </tr>\n",
       "    <tr>\n",
       "      <td>75%</td>\n",
       "      <td>43.000000</td>\n",
       "      <td>14.000000</td>\n",
       "      <td>4.000000</td>\n",
       "      <td>83800.000000</td>\n",
       "      <td>4.000000</td>\n",
       "      <td>18.000000</td>\n",
       "      <td>15.000000</td>\n",
       "      <td>3.000000</td>\n",
       "      <td>9.000000</td>\n",
       "      <td>3.000000</td>\n",
       "      <td>7.000000</td>\n",
       "    </tr>\n",
       "    <tr>\n",
       "      <td>max</td>\n",
       "      <td>60.000000</td>\n",
       "      <td>29.000000</td>\n",
       "      <td>5.000000</td>\n",
       "      <td>199990.000000</td>\n",
       "      <td>9.000000</td>\n",
       "      <td>25.000000</td>\n",
       "      <td>40.000000</td>\n",
       "      <td>6.000000</td>\n",
       "      <td>40.000000</td>\n",
       "      <td>15.000000</td>\n",
       "      <td>17.000000</td>\n",
       "    </tr>\n",
       "  </tbody>\n",
       "</table>\n",
       "</div>"
      ],
      "text/plain": [
       "               Age  DistanceFromHome    Education  MonthlyIncome  \\\n",
       "count  1498.000000       1498.000000  1498.000000    1498.000000   \n",
       "mean     36.895861          9.173565     2.914553   64934.566088   \n",
       "std       9.123650          8.105717     1.021827   46863.756845   \n",
       "min      18.000000          1.000000     1.000000   10090.000000   \n",
       "25%      30.000000          2.000000     2.000000   29110.000000   \n",
       "50%      36.000000          7.000000     3.000000   49190.000000   \n",
       "75%      43.000000         14.000000     4.000000   83800.000000   \n",
       "max      60.000000         29.000000     5.000000  199990.000000   \n",
       "\n",
       "       NumCompaniesWorked  PercentSalaryHike  TotalWorkingYears  \\\n",
       "count         1479.000000        1498.000000        1489.000000   \n",
       "mean             2.697769          15.206275          11.249161   \n",
       "std              2.501137           3.648488           7.770419   \n",
       "min              0.000000          11.000000           0.000000   \n",
       "25%              1.000000          12.000000           6.000000   \n",
       "50%              2.000000          14.000000          10.000000   \n",
       "75%              4.000000          18.000000          15.000000   \n",
       "max              9.000000          25.000000          40.000000   \n",
       "\n",
       "       TrainingTimesLastYear  YearsAtCompany  YearsSinceLastPromotion  \\\n",
       "count            1498.000000     1498.000000              1498.000000   \n",
       "mean                2.802403        7.001335                 2.176235   \n",
       "std                 1.288019        6.114145                 3.212729   \n",
       "min                 0.000000        0.000000                 0.000000   \n",
       "25%                 2.000000        3.000000                 0.000000   \n",
       "50%                 3.000000        5.000000                 1.000000   \n",
       "75%                 3.000000        9.000000                 3.000000   \n",
       "max                 6.000000       40.000000                15.000000   \n",
       "\n",
       "       YearsWithCurrManager  \n",
       "count           1498.000000  \n",
       "mean               4.114152  \n",
       "std                3.561229  \n",
       "min                0.000000  \n",
       "25%                2.000000  \n",
       "50%                3.000000  \n",
       "75%                7.000000  \n",
       "max               17.000000  "
      ]
     },
     "execution_count": 15,
     "metadata": {},
     "output_type": "execute_result"
    }
   ],
   "source": [
    "# Summary statistics \n",
    "df2.describe()\n"
   ]
  },
  {
   "cell_type": "code",
   "execution_count": 16,
   "metadata": {},
   "outputs": [
    {
     "data": {
      "text/plain": [
       "Age                           36.0\n",
       "DistanceFromHome               7.0\n",
       "Education                      3.0\n",
       "MonthlyIncome              49190.0\n",
       "NumCompaniesWorked             2.0\n",
       "PercentSalaryHike             14.0\n",
       "TotalWorkingYears             10.0\n",
       "TrainingTimesLastYear          3.0\n",
       "YearsAtCompany                 5.0\n",
       "YearsSinceLastPromotion        1.0\n",
       "YearsWithCurrManager           3.0\n",
       "dtype: float64"
      ]
     },
     "execution_count": 16,
     "metadata": {},
     "output_type": "execute_result"
    }
   ],
   "source": [
    "df2.median()"
   ]
  },
  {
   "cell_type": "code",
   "execution_count": 17,
   "metadata": {},
   "outputs": [
    {
     "data": {
      "text/html": [
       "<div>\n",
       "<style scoped>\n",
       "    .dataframe tbody tr th:only-of-type {\n",
       "        vertical-align: middle;\n",
       "    }\n",
       "\n",
       "    .dataframe tbody tr th {\n",
       "        vertical-align: top;\n",
       "    }\n",
       "\n",
       "    .dataframe thead th {\n",
       "        text-align: right;\n",
       "    }\n",
       "</style>\n",
       "<table border=\"1\" class=\"dataframe\">\n",
       "  <thead>\n",
       "    <tr style=\"text-align: right;\">\n",
       "      <th></th>\n",
       "      <th>Age</th>\n",
       "      <th>Attrition</th>\n",
       "      <th>BusinessTravel</th>\n",
       "      <th>Department</th>\n",
       "      <th>DistanceFromHome</th>\n",
       "      <th>Education</th>\n",
       "      <th>EducationField</th>\n",
       "      <th>Gender</th>\n",
       "      <th>JobRole</th>\n",
       "      <th>MaritalStatus</th>\n",
       "      <th>MonthlyIncome</th>\n",
       "      <th>NumCompaniesWorked</th>\n",
       "      <th>PercentSalaryHike</th>\n",
       "      <th>TotalWorkingYears</th>\n",
       "      <th>TrainingTimesLastYear</th>\n",
       "      <th>YearsAtCompany</th>\n",
       "      <th>YearsSinceLastPromotion</th>\n",
       "      <th>YearsWithCurrManager</th>\n",
       "    </tr>\n",
       "  </thead>\n",
       "  <tbody>\n",
       "    <tr>\n",
       "      <td>0</td>\n",
       "      <td>35</td>\n",
       "      <td>No</td>\n",
       "      <td>Travel_Rarely</td>\n",
       "      <td>Research &amp; Development</td>\n",
       "      <td>2</td>\n",
       "      <td>3</td>\n",
       "      <td>Life Sciences</td>\n",
       "      <td>Male</td>\n",
       "      <td>Sales Executive</td>\n",
       "      <td>Married</td>\n",
       "      <td>23420</td>\n",
       "      <td>1.0</td>\n",
       "      <td>13</td>\n",
       "      <td>10.0</td>\n",
       "      <td>2</td>\n",
       "      <td>5</td>\n",
       "      <td>0</td>\n",
       "      <td>2</td>\n",
       "    </tr>\n",
       "  </tbody>\n",
       "</table>\n",
       "</div>"
      ],
      "text/plain": [
       "   Age Attrition BusinessTravel              Department  DistanceFromHome  \\\n",
       "0   35        No  Travel_Rarely  Research & Development                 2   \n",
       "\n",
       "   Education EducationField Gender          JobRole MaritalStatus  \\\n",
       "0          3  Life Sciences   Male  Sales Executive       Married   \n",
       "\n",
       "   MonthlyIncome  NumCompaniesWorked  PercentSalaryHike  TotalWorkingYears  \\\n",
       "0          23420                 1.0                 13               10.0   \n",
       "\n",
       "   TrainingTimesLastYear  YearsAtCompany  YearsSinceLastPromotion  \\\n",
       "0                      2               5                        0   \n",
       "\n",
       "   YearsWithCurrManager  \n",
       "0                     2  "
      ]
     },
     "execution_count": 17,
     "metadata": {},
     "output_type": "execute_result"
    }
   ],
   "source": [
    "df2.mode()"
   ]
  },
  {
   "cell_type": "markdown",
   "metadata": {},
   "source": [
    "The mean, median and mode for \"Age\", \"Education\", \"TotalWorkingYears\" are almost same."
   ]
  },
  {
   "cell_type": "code",
   "execution_count": 27,
   "metadata": {},
   "outputs": [
    {
     "data": {
      "image/png": "[encoded data removed]",
      "text/plain": [
       "<Figure size 432x288 with 1 Axes>"
      ]
     },
     "metadata": {
      "needs_background": "light"
     },
     "output_type": "display_data"
    }
   ],
   "source": [
    "# Data Visualisation of Attrition\n",
    "\n",
    "plt.hist(df2.Attrition)\n",
    "plt.xlabel('Attrition', color = 'r')\n",
    "plt.ylabel('No of Employees')\n",
    "plt.title('Histogram')\n",
    "plt.show()"
   ]
  },
  {
   "cell_type": "markdown",
   "metadata": {},
   "source": [
    "The above graph shows that the no. of employees who attrited are less as compared to no. of employees who didn't attrite."
   ]
  },
  {
   "cell_type": "code",
   "execution_count": 41,
   "metadata": {},
   "outputs": [
    {
     "data": {
      "image/png": "[encoded data removed]",
      "text/plain": [
       "<Figure size 432x288 with 1 Axes>"
      ]
     },
     "metadata": {
      "needs_background": "light"
     },
     "output_type": "display_data"
    }
   ],
   "source": [
    "# Data Vizualisation of Age\n",
    "\n",
    "bins = (15,25,35,45,55,65)\n",
    "plt.hist(df2.Age, color = '#abcdef', bins = bins)\n",
    "plt.xlabel('Age')\n",
    "plt.ylabel('No of Employees')\n",
    "plt.title('Dsitribution of Age')\n",
    "plt.show()"
   ]
  },
  {
   "cell_type": "markdown",
   "metadata": {},
   "source": [
    "From the above graph, we can conclude that the majority of the workforce are aged between 25 to 45 years of age"
   ]
  },
  {
   "cell_type": "code",
   "execution_count": 37,
   "metadata": {},
   "outputs": [
    {
     "data": {
      "image/png": "[encoded data removed]",
      "text/plain": [
       "<Figure size 432x288 with 1 Axes>"
      ]
     },
     "metadata": {
      "needs_background": "light"
     },
     "output_type": "display_data"
    }
   ],
   "source": [
    "# Data Visualisation of Business Travel\n",
    "\n",
    "plt.hist(df2.BusinessTravel, color = '#3467eb')\n",
    "plt.xlabel('Business Travel')\n",
    "plt.ylabel('No of Employees')\n",
    "plt.title('Distribution of Business Travel')\n",
    "plt.show()"
   ]
  },
  {
   "cell_type": "markdown",
   "metadata": {},
   "source": [
    "From the above graph, we can conclude that the majority of the employees rarely travel for business"
   ]
  },
  {
   "cell_type": "code",
   "execution_count": 39,
   "metadata": {},
   "outputs": [
    {
     "data": {
      "image/png": "[encoded data removed]",
      "text/plain": [
       "<Figure size 432x288 with 1 Axes>"
      ]
     },
     "metadata": {
      "needs_background": "light"
     },
     "output_type": "display_data"
    }
   ],
   "source": [
    "# Data Visualisation of DistanceFromHome\n",
    "\n",
    "bins = (0,10,20,30)\n",
    "plt.hist(df2.DistanceFromHome, color = \"#34ebdf\" , bins = bins)\n",
    "plt.xlabel('DistanceFromHome')\n",
    "plt.ylabel('No of Employees')\n",
    "plt.title(\"Distribution of DistanceFromHome\")\n",
    "plt.show()"
   ]
  },
  {
   "cell_type": "markdown",
   "metadata": {},
   "source": [
    "The above graph shows that majority of the employees live within 10 kms range from the work place."
   ]
  },
  {
   "cell_type": "code",
   "execution_count": 66,
   "metadata": {},
   "outputs": [
    {
     "data": {
      "image/png": "[encoded data removed]",
      "text/plain": [
       "<Figure size 432x288 with 1 Axes>"
      ]
     },
     "metadata": {},
     "output_type": "display_data"
    }
   ],
   "source": [
    "# Pie Chart of Gender\n",
    "\n",
    "Male = df2.loc[df2[\"Gender\"] == 'Male'].count()[0]\n",
    "Female = df2.loc[df2[\"Gender\"] == 'Female'].count()[0]\n",
    "\n",
    "plt.pie([Male , Female], labels = [\"Male\" , \"Female\"], colors = [\"#3496eb\" , \"#3446eb\"], autopct = \"%.2f %%\")\n",
    "plt.show()"
   ]
  },
  {
   "cell_type": "markdown",
   "metadata": {},
   "source": [
    "The above graph shows that the male employees dominate the work force. But, overall, the company is doing good from a diversity perspective. There's still some scope for improvement."
   ]
  },
  {
   "cell_type": "code",
   "execution_count": 68,
   "metadata": {},
   "outputs": [
    {
     "data": {
      "image/png": "[encoded data removed]",
      "text/plain": [
       "<Figure size 432x288 with 1 Axes>"
      ]
     },
     "metadata": {},
     "output_type": "display_data"
    }
   ],
   "source": [
    "# Pie Chart of MaritalStatus\n",
    "\n",
    "Married = df2.loc[df2[\"MaritalStatus\"] == \"Married\"].count()[0]\n",
    "Single = df2.loc[df2[\"MaritalStatus\"] == \"Single\"].count()[0]\n",
    "Divorced = df2.loc[df2[\"MaritalStatus\"] == \"Divorced\"].count()[0]\n",
    "labels = [\"Married\" , \"Single\" , \"Divorced\"]\n",
    "colors = [\"#3446eb\" , \"#7734eb\" , \"#9634eb\"]\n",
    "plt.pie([Single , Married , Divorced], labels = labels, colors = colors, autopct = \"%.2f %%\")\n",
    "plt.show()"
   ]
  },
  {
   "cell_type": "code",
   "execution_count": 58,
   "metadata": {},
   "outputs": [
    {
     "data": {
      "image/png": "[encoded data removed]",
      "text/plain": [
       "<Figure size 432x288 with 1 Axes>"
      ]
     },
     "metadata": {
      "needs_background": "light"
     },
     "output_type": "display_data"
    }
   ],
   "source": [
    "# Data Visualisation of MonthlyIncome\n",
    "\n",
    "bins = (10000, 50000, 100000, 150000, 200000)\n",
    "plt.hist(df2.MonthlyIncome, color = \"#9ceb34\" , bins = bins)\n",
    "plt.xlabel('MonthlyIncome INR')\n",
    "plt.ylabel('No of Employees')\n",
    "plt.title(\"Distribution of MonthlyIncome\")\n",
    "plt.show()"
   ]
  },
  {
   "cell_type": "markdown",
   "metadata": {},
   "source": [
    "Most of the employees salary ranges between INR 10000 to 100000."
   ]
  },
  {
   "cell_type": "code",
   "execution_count": null,
   "metadata": {},
   "outputs": [],
   "source": [
    "#Index(['Age', 'Attrition', 'BusinessTravel', 'Department', 'DistanceFromHome',\n",
    "       #'Education', 'EducationField', 'Gender', 'JobRole', 'MaritalStatus',\n",
    "       #'MonthlyIncome', 'NumCompaniesWorked', 'PercentSalaryHike',\n",
    "       #'TotalWorkingYears', 'TrainingTimesLastYear', 'YearsAtCompany',\n",
    "       #'YearsSinceLastPromotion', 'YearsWithCurrManager'],\n",
    "      #dtype='object')"
   ]
  },
  {
   "cell_type": "code",
   "execution_count": 74,
   "metadata": {},
   "outputs": [
    {
     "data": {
      "image/png": "[encoded data removed]",
      "text/plain": [
       "<Figure size 432x288 with 1 Axes>"
      ]
     },
     "metadata": {
      "needs_background": "light"
     },
     "output_type": "display_data"
    }
   ],
   "source": [
    "# Box plot of TotalWorkingYears and MonthlyIncome\n",
    "\n",
    "plt.boxplot(df2.MonthlyIncome)\n",
    "plt.show()"
   ]
  },
  {
   "cell_type": "markdown",
   "metadata": {},
   "source": [
    "Monthly income acorss employees vary a lot, the above graph shows lot of outliers."
   ]
  },
  {
   "cell_type": "code",
   "execution_count": 75,
   "metadata": {},
   "outputs": [
    {
     "data": {
      "image/png": "[encoded data removed]",
      "text/plain": [
       "<Figure size 432x288 with 1 Axes>"
      ]
     },
     "metadata": {
      "needs_background": "light"
     },
     "output_type": "display_data"
    }
   ],
   "source": [
    "# Box plot of PercentSalaryHike\n",
    "\n",
    "plt.boxplot(df2.PercentSalaryHike)\n",
    "plt.show()"
   ]
  },
  {
   "cell_type": "markdown",
   "metadata": {},
   "source": [
    "There are no outliers in % Salary hike."
   ]
  }
 ],
 "metadata": {
  "kernelspec": {
   "display_name": "Python 3",
   "language": "python",
   "name": "python3"
  },
  "language_info": {
   "codemirror_mode": {
    "name": "ipython",
    "version": 3
   },
   "file_extension": ".py",
   "mimetype": "text/x-python",
   "name": "python",
   "nbconvert_exporter": "python",
   "pygments_lexer": "ipython3",
   "version": "3.7.4"
  }
 },
 "nbformat": 4,
 "nbformat_minor": 2
}
